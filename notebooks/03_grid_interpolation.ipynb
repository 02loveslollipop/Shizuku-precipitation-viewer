{
 "cells": [
  {
   "cell_type": "markdown",
   "id": "5fdaf3ea",
   "metadata": {},
   "source": [
    "## 1. Setup\n",
    "Install the updated requirements (scipy, pyproj, matplotlib, folium) if you haven't already."
   ]
  },
  {
   "cell_type": "code",
   "execution_count": null,
   "id": "adf01441",
   "metadata": {},
   "outputs": [],
   "source": [
    "from __future__ import annotations\n",
    "\n",
    "import json\n",
    "from dataclasses import dataclass\n",
    "from pathlib import Path\n",
    "from typing import Tuple\n",
    "\n",
    "import folium\n",
    "import matplotlib.pyplot as plt\n",
    "import numpy as np\n",
    "import pandas as pd\n",
    "from dotenv import load_dotenv\n",
    "from matplotlib import cm, colors\n",
    "from pyproj import Transformer\n",
    "from scipy.spatial import cKDTree\n",
    "import sqlalchemy as sa\n",
    "\n",
    "load_dotenv(Path('..') / '.env')\n",
    "\n",
    "BASE_DIR = Path('..').resolve()\n",
    "PROCESSED_DIR = BASE_DIR / 'data' / 'processed'\n",
    "PROCESSED_DIR.mkdir(parents=True, exist_ok=True)\n",
    "\n",
    "print('Base dir:', BASE_DIR)\n"
   ]
  },
  {
   "cell_type": "markdown",
   "id": "2a672efc",
   "metadata": {},
   "source": [
    "## 2. Fetch a snapshot from `clean_measurements`\n",
    "Choose a timestamp (UTC) to grid. By default we grab the most recent one."
   ]
  },
  {
   "cell_type": "code",
   "execution_count": null,
   "id": "d6863f7d",
   "metadata": {},
   "outputs": [],
   "source": [
    "from datetime import timedelta\n",
    "\n",
    "def ensure_utc(value) -> pd.Timestamp:\n",
    "    ts = pd.Timestamp(value)\n",
    "    if ts.tzinfo is None:\n",
    "        return ts.tz_localize('UTC')\n",
    "    return ts.tz_convert('UTC')\n",
    "\n",
    "\n",
    "def load_clean_snapshot(target_ts=None, window_minutes=5):\n",
    "    ts = ensure_utc(target_ts if target_ts is not None else latest_ts)\n",
    "    start = ts - pd.Timedelta(minutes=window_minutes)\n",
    "    end = ts + pd.Timedelta(minutes=window_minutes)\n",
    "    query = sa.text(\n",
    "        'SELECT cm.sensor_id, cm.ts, cm.value_mm, cm.imputation_method, '\n",
    "        's.lat, s.lon '\n",
    "        'FROM clean_measurements cm '\n",
    "        'JOIN sensors s ON s.id = cm.sensor_id '\n",
    "        'WHERE cm.ts BETWEEN :start AND :end'\n",
    "    )\n",
    "    df = pd.read_sql(query, engine, params={'start': start, 'end': end})\n",
    "    df['ts'] = pd.to_datetime(df['ts'], utc=True)\n",
    "    return df.sort_values('sensor_id')\n",
    "\n",
    "snapshot_df = load_clean_snapshot()\n",
    "print(snapshot_df.shape)\n",
    "snapshot_df.head()\n"
   ]
  },
  {
   "cell_type": "code",
   "execution_count": null,
   "id": "54e384a0",
   "metadata": {},
   "outputs": [],
   "source": [
    "from datetime import timedelta\n",
    "\n",
    "def ensure_utc(value) -> pd.Timestamp:\n",
    "    ts = pd.Timestamp(value)\n",
    "    if ts.tzinfo is None:\n",
    "        return ts.tz_localize('UTC')\n",
    "    return ts.tz_convert('UTC')\n",
    "\n",
    "\n",
    "def load_clean_snapshot(target_ts=None, window_minutes=5):\n",
    "    ts = ensure_utc(target_ts if target_ts is not None else latest_ts)\n",
    "    start = ts - pd.Timedelta(minutes=window_minutes)\n",
    "    end = ts + pd.Timedelta(minutes=window_minutes)\n",
    "    query = sa.text(\n",
    "        'SELECT cm.sensor_id, cm.ts, cm.value_mm, cm.imputation_method, '\n",
    "        's.lat, s.lon '\n",
    "        'FROM clean_measurements cm '\n",
    "        'JOIN sensors s ON s.id = cm.sensor_id '\n",
    "        'WHERE cm.ts BETWEEN :start AND :end'\n",
    "    )\n",
    "    df = pd.read_sql(query, engine, params={'start': start, 'end': end})\n",
    "    df['ts'] = pd.to_datetime(df['ts'], utc=True)\n",
    "    return df.sort_values('sensor_id')\n",
    "\n",
    "snapshot_df = load_clean_snapshot()\n",
    "print(snapshot_df.shape)\n",
    "snapshot_df.head()\n"
   ]
  },
  {
   "cell_type": "markdown",
   "id": "0c43fcd0",
   "metadata": {},
   "source": [
    "high_median_row = pd.read_sql(\n",
    "    sa.text('''\n",
    "        SELECT ts,\n",
    "               percentile_cont(0.5) WITHIN GROUP (ORDER BY value_mm) AS median_mm\n",
    "        FROM clean_measurements\n",
    "        GROUP BY ts\n",
    "        ORDER BY median_mm DESC\n",
    "        LIMIT 1\n",
    "    '''),\n",
    "    engine,\n",
    ")\n",
    "\n",
    "median_ts = ensure_utc(high_median_row.at[0, 'ts'])\n",
    "median_value = high_median_row.at[0, 'median_mm']\n",
    "\n",
    "print('Timestamp with highest median precipitation (UTC):', median_ts)\n",
    "print('Median precipitation at that time:', round(median_value, 2), 'mm')\n",
    "\n",
    "high_median_snapshot = load_clean_snapshot(target_ts=median_ts, window_minutes=5)\n",
    "print('Sensors in window:', len(high_median_snapshot))\n",
    "high_median_snapshot[['sensor_id', 'value_mm']].head()\n"
   ]
  },
  {
   "cell_type": "markdown",
   "id": "8932e3e5",
   "metadata": {},
   "source": [
    "high_median_row = pd.read_sql(\n",
    "    sa.text('''\n",
    "        SELECT ts,\n",
    "               percentile_cont(0.5) WITHIN GROUP (ORDER BY value_mm) AS median_mm\n",
    "        FROM clean_measurements\n",
    "        GROUP BY ts\n",
    "        ORDER BY median_mm DESC\n",
    "        LIMIT 1\n",
    "    '''),\n",
    "    engine,\n",
    ")\n",
    "\n",
    "median_ts = ensure_utc(high_median_row.at[0, 'ts'])\n",
    "median_value = high_median_row.at[0, 'median_mm']\n",
    "\n",
    "print('Timestamp with highest median precipitation (UTC):', median_ts)\n",
    "print('Median precipitation at that time:', round(median_value, 2), 'mm')\n",
    "\n",
    "high_median_snapshot = load_clean_snapshot(target_ts=median_ts, window_minutes=5)\n",
    "print('Sensors in window:', len(high_median_snapshot))\n",
    "high_median_snapshot[['sensor_id', 'value_mm']].head()\n"
   ]
  },
  {
   "cell_type": "code",
   "execution_count": null,
   "id": "468e9b75",
   "metadata": {},
   "outputs": [],
   "source": [
    "high_median_row = pd.read_sql(\n",
    "    sa.text('''\n",
    "        SELECT ts AT TIME ZONE 'UTC' AS ts_utc,\n",
    "               percentile_cont(0.5) WITHIN GROUP (ORDER BY value_mm) AS median_mm\n",
    "        FROM clean_measurements\n",
    "        GROUP BY ts\n",
    "        ORDER BY median_mm DESC\n",
    "        LIMIT 1\n",
    "    '''),\n",
    "    engine,\n",
    ")\n",
    "\n",
    "median_ts = pd.to_datetime(high_median_row.at[0, 'ts_utc'], utc=True)\n",
    "median_value = high_median_row.at[0, 'median_mm']\n",
    "\n",
    "print('Timestamp with highest median precipitation (UTC):', median_ts)\n",
    "print('Median precipitation at that time:', round(median_value, 2), 'mm')\n",
    "\n",
    "high_median_snapshot = load_clean_snapshot(target_ts=median_ts, window_minutes=5)\n",
    "print('Sensors in window:', len(high_median_snapshot))\n",
    "high_median_snapshot[['sensor_id', 'value_mm']].head()\n"
   ]
  },
  {
   "cell_type": "code",
   "execution_count": null,
   "id": "197e3cd7",
   "metadata": {},
   "outputs": [],
   "source": [
    "snapshot_df = high_median_snapshot.copy()\n",
    "print('Using high-median snapshot:', snapshot_df['ts'].max())\n"
   ]
  },
  {
   "cell_type": "code",
   "execution_count": null,
   "id": "f2f1f9df",
   "metadata": {},
   "outputs": [],
   "source": [
    "transformer_to_3857 = Transformer.from_crs('EPSG:4326', 'EPSG:3857', always_xy=True)\n",
    "transformer_to_wgs84 = Transformer.from_crs('EPSG:3857', 'EPSG:4326', always_xy=True)\n",
    "\n",
    "snapshot_df['x'], snapshot_df['y'] = transformer_to_3857.transform(\n",
    "    snapshot_df['lon'].to_numpy(),\n",
    "    snapshot_df['lat'].to_numpy()\n",
    ")\n",
    "\n",
    "bbox_padding = 2000  # metres\n",
    "res_m = 500\n",
    "\n",
    "min_x = snapshot_df['x'].min() - bbox_padding\n",
    "max_x = snapshot_df['x'].max() + bbox_padding\n",
    "min_y = snapshot_df['y'].min() - bbox_padding\n",
    "max_y = snapshot_df['y'].max() + bbox_padding\n",
    "\n",
    "nx = int(np.ceil((max_x - min_x) / res_m)) + 1\n",
    "ny = int(np.ceil((max_y - min_y) / res_m)) + 1\n",
    "\n",
    "x_grid = np.linspace(min_x, max_x, nx)\n",
    "y_grid = np.linspace(min_y, max_y, ny)\n",
    "\n",
    "xx, yy = np.meshgrid(x_grid, y_grid)\n",
    "\n",
    "print('Grid shape:', yy.shape, 'resolution (m):', res_m)\n"
   ]
  },
  {
   "cell_type": "markdown",
   "id": "697b1b02",
   "metadata": {},
   "source": [
    "### Seed the grid with nearest sensor values"
   ]
  },
  {
   "cell_type": "code",
   "execution_count": null,
   "id": "3cefab1e",
   "metadata": {},
   "outputs": [],
   "source": [
    "seed_grid = np.full((ny, nx), np.nan, dtype=float)\n",
    "mask = np.zeros_like(seed_grid, dtype=bool)\n",
    "\n",
    "sensor_values = snapshot_df['value_mm'].to_numpy(dtype=float)\n",
    "xi = ((snapshot_df['x'] - min_x) / res_m).round().astype(int)\n",
    "yi = ((snapshot_df['y'] - min_y) / res_m).round().astype(int)\n",
    "\n",
    "for i in range(len(snapshot_df)):\n",
    "    gx = np.clip(xi[i], 0, nx - 1)\n",
    "    gy = np.clip(yi[i], 0, ny - 1)\n",
    "    if mask[gy, gx]:\n",
    "        seed_grid[gy, gx] = np.nanmean([seed_grid[gy, gx], sensor_values[i]])\n",
    "    else:\n",
    "        seed_grid[gy, gx] = sensor_values[i]\n",
    "        mask[gy, gx] = True\n",
    "\n",
    "np.count_nonzero(mask), seed_grid.shape\n"
   ]
  },
  {
   "cell_type": "markdown",
   "id": "7f95587c",
   "metadata": {},
   "source": [
    "## 4. Lanczos-4 interpolation"
   ]
  },
  {
   "cell_type": "code",
   "execution_count": null,
   "id": "767ea945",
   "metadata": {},
   "outputs": [],
   "source": [
    "def lanczos_kernel(radius: int, a: int = 4) -> np.ndarray:\n",
    "    x = np.arange(-radius, radius + 1, dtype=float)\n",
    "    def lanczos(x):\n",
    "        x = np.asarray(x, dtype=float)\n",
    "        out = np.sinc(x) * np.sinc(x / a)\n",
    "        out[np.abs(x) > a] = 0.0\n",
    "        out[np.isnan(out)] = 1.0\n",
    "        return out\n",
    "    k1d = lanczos(x)\n",
    "    kernel = np.outer(k1d, k1d)\n",
    "    return kernel / kernel.sum()\n",
    "\n",
    "kernel = lanczos_kernel(radius=4, a=4)\n",
    "from scipy.signal import convolve2d\n",
    "\n",
    "seed_values = np.nan_to_num(seed_grid, nan=0.0)\n",
    "seed_mask = (~np.isnan(seed_grid)).astype(float)\n",
    "\n",
    "num = convolve2d(seed_values, kernel, mode='same', boundary='symm')\n",
    "den = convolve2d(seed_mask, kernel, mode='same', boundary='symm')\n",
    "\n",
    "lanczos_grid = np.where(den > 0, num / den, np.nan)\n",
    "np.sum(~np.isnan(lanczos_grid))\n"
   ]
  },
  {
   "cell_type": "markdown",
   "id": "956219c3",
   "metadata": {},
   "source": [
    "### 4.1 Fill remaining gaps via nearest neighbour"
   ]
  },
  {
   "cell_type": "code",
   "execution_count": null,
   "id": "0f8e8ee5",
   "metadata": {},
   "outputs": [],
   "source": [
    "remaining = np.isnan(lanczos_grid)\n",
    "if remaining.any():\n",
    "    valid_idx = np.column_stack(np.where(~remaining))\n",
    "    valid_vals = lanczos_grid[~remaining]\n",
    "    tree = cKDTree(valid_idx)\n",
    "    target_idx = np.column_stack(np.where(remaining))\n",
    "    dist, nn = tree.query(target_idx)\n",
    "    lanczos_grid[remaining] = valid_vals[nn]\n",
    "\n",
    "np.sum(np.isnan(lanczos_grid))\n"
   ]
  },
  {
   "cell_type": "markdown",
   "id": "583aab9f",
   "metadata": {},
   "source": [
    "## 5. Visualise grid and contours"
   ]
  },
  {
   "cell_type": "code",
   "execution_count": null,
   "id": "d474e83d",
   "metadata": {},
   "outputs": [],
   "source": [
    "levels = np.linspace(np.nanmin(lanczos_grid), np.nanmax(lanczos_grid), 12)\n",
    "fig, ax = plt.subplots(figsize=(10, 6))\n",
    "mesh = ax.pcolormesh(x_grid, y_grid, lanczos_grid, cmap='viridis', shading='auto')\n",
    "contours = ax.contour(x_grid, y_grid, lanczos_grid, levels=levels, colors='white', linewidths=0.7)\n",
    "ax.clabel(contours, inline=True, fontsize=8, fmt='%.1f')\n",
    "ax.scatter(snapshot_df['x'], snapshot_df['y'], c='red', s=10, label='Sensors')\n",
    "ax.set_title('Lanczos Interpolated Grid (EPSG:3857)')\n",
    "ax.set_xlabel('x (m)')\n",
    "ax.set_ylabel('y (m)')\n",
    "ax.legend(loc='upper right')\n",
    "fig.colorbar(mesh, ax=ax, label='Precipitation (mm)')\n",
    "plt.tight_layout()\n"
   ]
  },
  {
   "cell_type": "markdown",
   "id": "e92fc60a",
   "metadata": {},
   "source": [
    "## 6. Prepare artifacts (npz + metadata)"
   ]
  },
  {
   "cell_type": "code",
   "execution_count": null,
   "id": "e6f66ae8",
   "metadata": {},
   "outputs": [],
   "source": [
    "grid_metadata = {\n",
    "    'timestamp': snapshot_df['ts'].max().isoformat(),\n",
    "    'res_m': res_m,\n",
    "    'bbox_3857': [float(min_x), float(min_y), float(max_x), float(max_y)],\n",
    "}\n",
    "\n",
    "# Convert bbox to WGS84 (min/max)\n",
    "west, north = transformer_to_wgs84.transform(min_x, max_y)\n",
    "east, south = transformer_to_wgs84.transform(max_x, min_y)\n",
    "grid_metadata['bbox_wgs84'] = [west, south, east, north]\n",
    "\n",
    "grid_npz_path = PROCESSED_DIR / f\"grid_{snapshot_df['ts'].max().strftime('%Y%m%dT%H%M%SZ')}.npz\"\n",
    "np.savez_compressed(\n",
    "    grid_npz_path,\n",
    "    data=lanczos_grid.astype(np.float32),\n",
    "    x=x_grid.astype(np.float64),\n",
    "    y=y_grid.astype(np.float64),\n",
    "    metadata=json.dumps(grid_metadata),\n",
    ")\n",
    "\n",
    "print('Saved grid to', grid_npz_path)\n",
    "print('Metadata:', grid_metadata)\n"
   ]
  },
  {
   "cell_type": "markdown",
   "id": "75f85dbf",
   "metadata": {},
   "source": [
    "## 7. Interactive map preview (Folium)"
   ]
  },
  {
   "cell_type": "code",
   "execution_count": null,
   "id": "27de2b2a",
   "metadata": {},
   "outputs": [],
   "source": [
    "norm = colors.Normalize(vmin=np.nanmin(lanczos_grid), vmax=np.nanmax(lanczos_grid))\n",
    "rgba = cm.get_cmap('viridis')(norm(lanczos_grid))\n",
    "rgba[..., 3] = np.where(np.isnan(lanczos_grid), 0.0, 0.75)\n",
    "\n",
    "west, north = transformer_to_wgs84.transform(min_x, max_y)\n",
    "east, south = transformer_to_wgs84.transform(max_x, min_y)\n",
    "bounds = [[south, west], [north, east]]\n",
    "\n",
    "center_lat = snapshot_df['lat'].mean()\n",
    "center_lon = snapshot_df['lon'].mean()\n",
    "\n",
    "m = folium.Map(location=[center_lat, center_lon], zoom_start=11, tiles='CartoDB positron')\n",
    "folium.raster_layers.ImageOverlay(\n",
    "    image=rgba,\n",
    "    bounds=bounds,\n",
    "    opacity=0.7,\n",
    "    origin='upper',\n",
    "    name='Interpolated Grid',\n",
    ").add_to(m)\n",
    "\n",
    "for _, row in snapshot_df.iterrows():\n",
    "    folium.CircleMarker(\n",
    "        location=[row['lat'], row['lon']],\n",
    "        radius=3,\n",
    "        color='red',\n",
    "        fill=True,\n",
    "        fill_opacity=0.9,\n",
    "        popup=f\"{row['sensor_id']}<br>value: {row['value_mm']:.2f} mm\",\n",
    "    ).add_to(m)\n",
    "\n",
    "folium.LayerControl().add_to(m)\n",
    "\n",
    "m\n"
   ]
  }
 ],
 "metadata": {
  "kernelspec": {
   "display_name": "siata-viewer",
   "language": "python",
   "name": "python3"
  },
  "language_info": {
   "codemirror_mode": {
    "name": "ipython",
    "version": 3
   },
   "file_extension": ".py",
   "mimetype": "text/x-python",
   "name": "python",
   "nbconvert_exporter": "python",
   "pygments_lexer": "ipython3",
   "version": "3.13.7"
  }
 },
 "nbformat": 4,
 "nbformat_minor": 5
}
